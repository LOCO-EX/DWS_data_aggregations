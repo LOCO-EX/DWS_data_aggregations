{
 "cells": [
  {
   "cell_type": "markdown",
   "metadata": {},
   "source": [
    "#### Combine files which include 15-day salinity and temperature aggregations with 15-day residence time aggregations"
   ]
  },
  {
   "cell_type": "code",
   "execution_count": null,
   "metadata": {},
   "outputs": [],
   "source": [
    "import xarray as xr\n",
    "\n",
    "PATH_DISC = \"\"\n",
    "\n",
    "rt_file_name = \"\"\n",
    "s_t_file_name = \"\"\n",
    "output_file_name = \"\"\n",
    "\n",
    "ds1 = xr.open_dataset(PATH_DISC + rt_file_name)\n",
    "ds2 = xr.open_dataset(PATH_DISC + s_t_file_name)\n",
    "\n",
    "# Merge datasets based on \"time\" dimension\n",
    "merged_ds = xr.merge([ds1, ds2])\n",
    "\n",
    "# Save the merged dataset\n",
    "merged_ds.to_netcdf(PATH_DISC + output_file_name)\n",
    "\n",
    "print(merged_ds)\n",
    "\n",
    "ds1.close()\n",
    "ds2.close()"
   ]
  }
 ],
 "metadata": {
  "kernelspec": {
   "display_name": "env_dws",
   "language": "python",
   "name": "python3"
  },
  "language_info": {
   "codemirror_mode": {
    "name": "ipython",
    "version": 3
   },
   "file_extension": ".py",
   "mimetype": "text/x-python",
   "name": "python",
   "nbconvert_exporter": "python",
   "pygments_lexer": "ipython3",
   "version": "3.12.8"
  }
 },
 "nbformat": 4,
 "nbformat_minor": 2
}
